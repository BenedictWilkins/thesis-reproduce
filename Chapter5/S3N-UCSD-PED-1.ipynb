{
 "cells": [
  {
   "cell_type": "code",
   "execution_count": 1,
   "id": "9e4dafd6",
   "metadata": {
    "scrolled": false
   },
   "outputs": [
    {
     "data": {
      "application/vnd.jupyter.widget-view+json": {
       "model_id": "325b1c406f4c4d02b7cd3ae3a9e8b3d5",
       "version_major": 2,
       "version_minor": 0
      },
      "text/plain": [
       "  0%|          | 0/34 [00:00<?, ?it/s]"
      ]
     },
     "metadata": {},
     "output_type": "display_data"
    },
    {
     "name": "stdout",
     "output_type": "stream",
     "text": [
      "/home/ben/.data/UCSD/UCSDped1/Train/Train001\n",
      "/home/ben/.data/UCSD/UCSDped1/Train/Train002\n",
      "/home/ben/.data/UCSD/UCSDped1/Train/Train003\n",
      "/home/ben/.data/UCSD/UCSDped1/Train/Train004\n",
      "/home/ben/.data/UCSD/UCSDped1/Train/Train005\n",
      "/home/ben/.data/UCSD/UCSDped1/Train/Train006\n",
      "/home/ben/.data/UCSD/UCSDped1/Train/Train007\n",
      "/home/ben/.data/UCSD/UCSDped1/Train/Train008\n",
      "/home/ben/.data/UCSD/UCSDped1/Train/Train009\n",
      "/home/ben/.data/UCSD/UCSDped1/Train/Train010\n",
      "/home/ben/.data/UCSD/UCSDped1/Train/Train011\n",
      "/home/ben/.data/UCSD/UCSDped1/Train/Train012\n",
      "/home/ben/.data/UCSD/UCSDped1/Train/Train013\n",
      "/home/ben/.data/UCSD/UCSDped1/Train/Train014\n",
      "/home/ben/.data/UCSD/UCSDped1/Train/Train015\n",
      "/home/ben/.data/UCSD/UCSDped1/Train/Train016\n",
      "/home/ben/.data/UCSD/UCSDped1/Train/Train017\n",
      "/home/ben/.data/UCSD/UCSDped1/Train/Train018\n",
      "/home/ben/.data/UCSD/UCSDped1/Train/Train019\n",
      "/home/ben/.data/UCSD/UCSDped1/Train/Train020\n",
      "/home/ben/.data/UCSD/UCSDped1/Train/Train021\n",
      "/home/ben/.data/UCSD/UCSDped1/Train/Train022\n",
      "/home/ben/.data/UCSD/UCSDped1/Train/Train023\n",
      "/home/ben/.data/UCSD/UCSDped1/Train/Train024\n",
      "/home/ben/.data/UCSD/UCSDped1/Train/Train025\n",
      "/home/ben/.data/UCSD/UCSDped1/Train/Train026\n",
      "/home/ben/.data/UCSD/UCSDped1/Train/Train027\n",
      "/home/ben/.data/UCSD/UCSDped1/Train/Train028\n",
      "/home/ben/.data/UCSD/UCSDped1/Train/Train029\n",
      "/home/ben/.data/UCSD/UCSDped1/Train/Train030\n",
      "/home/ben/.data/UCSD/UCSDped1/Train/Train031\n",
      "/home/ben/.data/UCSD/UCSDped1/Train/Train032\n",
      "/home/ben/.data/UCSD/UCSDped1/Train/Train033\n",
      "/home/ben/.data/UCSD/UCSDped1/Train/Train034\n"
     ]
    },
    {
     "data": {
      "application/vnd.jupyter.widget-view+json": {
       "model_id": "9edf47e0466c40bab176217a3b4d7cb3",
       "version_major": 2,
       "version_minor": 0
      },
      "text/plain": [
       "  0%|          | 0/34 [00:00<?, ?it/s]"
      ]
     },
     "metadata": {},
     "output_type": "display_data"
    },
    {
     "name": "stdout",
     "output_type": "stream",
     "text": [
      "Training dataset size: 2814656\n"
     ]
    }
   ],
   "source": [
    "# load data \n",
    "import glob\n",
    "import pathlib \n",
    "import numpy as np\n",
    "import cv2\n",
    "import torch\n",
    "import math\n",
    "\n",
    "from torch.utils.data import TensorDataset, ConcatDataset, DataLoader\n",
    "import torch.nn.functional as F\n",
    "import jnu as J\n",
    "from tqdm.auto import tqdm\n",
    "import torchvision\n",
    "\n",
    "DATASET = 1 # ped 1\n",
    "TRAIN = True\n",
    "STAGE = 'Train' if TRAIN else 'Test'\n",
    "\n",
    "PATH = f\"~/.data/UCSD/UCSDped{DATASET}/{STAGE}/\"\n",
    "PATH = str(pathlib.Path(PATH).expanduser().resolve())\n",
    "\n",
    "def extract_image_patches(x, size, stride):\n",
    "    patches =  x.unfold(2, size, stride).unfold(3, size, stride)\n",
    "    return patches.reshape(x.shape[0], x.shape[1], -1, size, size).permute(0,2,1,3,4).contiguous()\n",
    "\n",
    "def load_images(patch_size=64, patch_stride=8):\n",
    "    #resize = torchvision.transforms.Resize(resize,interpolation=torchvision.transforms.InterpolationMode.BILINEAR)\n",
    "    def load_image(f):\n",
    "        image = cv2.imread(f)\n",
    "        image = np.asarray(image, dtype = np.float32) / 255\n",
    "        image = np.ascontiguousarray(image.transpose(2,0,1)[:1])\n",
    "        return image\n",
    "    \n",
    "    def load_episode(ep, ext):\n",
    "        episode = [load_image(f) for f in sorted(glob.glob(ep + \"/*\" + ext), key=lambda x: x.split(\"/\")[-1])]\n",
    "        episode = torch.from_numpy(np.stack(episode))\n",
    "        # crop the top of the images (only for ped 2)\n",
    "        return episode\n",
    "    \n",
    "    episodes, patches, x_shapes = [], [], []\n",
    "    seg = []\n",
    "    \n",
    "    iterator = tqdm(sorted(glob.glob(PATH + f\"/{STAGE}*\", recursive=True), key=lambda x: x.split(\"/\")[-1]))\n",
    "    for ep in iterator:\n",
    "        print(ep)\n",
    "        if ep.endswith(\"_gt\"):\n",
    "            #seg.append(extract_image_patches(load_episode(ep, \".bmp\"), patch_size, patch_stride))\n",
    "            continue\n",
    "            \n",
    "        iterator.set_description(ep.split(\"/\")[-1])\n",
    "        episode = load_episode(ep, \".tif\")\n",
    "        episodes.append(episode)\n",
    "        x_shapes.append(episode.shape)\n",
    "        patches.append(extract_image_patches(episode, patch_size, patch_stride))\n",
    "        \n",
    "    labels = load_labels(x_shapes)\n",
    "    return episodes, patches, labels, seg\n",
    "\n",
    "def load_labels(x_shapes):\n",
    "    yfile = glob.glob(PATH + \"/*.m\")  \n",
    "    if len(yfile) == 0:\n",
    "        return [torch.zeros(x_shape[0]) for x_shape in x_shapes] \n",
    "        \n",
    "    yfile = yfile[0]\n",
    "    with open(yfile, \"r\") as f:\n",
    "        def to_slices(line):\n",
    "            line = line.split(\"=\")[-1].strip()[1:-2].split(\",\")\n",
    "            line = [list(x.split(\":\")) for x in line]\n",
    "            line = np.array(line).astype(int)\n",
    "            return [slice(a,b) for a,b in line]\n",
    "\n",
    "        slices = [to_slices(line) for line in f.readlines()[1:]]\n",
    "    labels = []\n",
    "    for s,x_shape in zip(slices, x_shapes):\n",
    "        label = np.zeros(x_shape[0])\n",
    "        for _s in s:\n",
    "            label[_s] = 1\n",
    "        labels.append(torch.from_numpy(label))\n",
    "    return labels\n",
    "      \n",
    "def preprocess_patches(x, threshold=10.):\n",
    "    def remove_self_transitions(x1, x2):\n",
    "        indx = (x2-x1).abs().view(x1.shape[0],-1).sum(-1) > threshold\n",
    "        x1, x2 = x1[indx], x2[indx]\n",
    "        return x1, x2\n",
    "    x1, x2 = x[:-1], x[1:]\n",
    "    x1, x2 = x1.reshape(-1, *x1.shape[2:]), x2.reshape(-1, *x2.shape[2:])\n",
    "    return x1, x2\n",
    "    #return remove_self_transitions(x1, x2)\n",
    "\n",
    "patch_size = 32\n",
    "patch_stride = 8\n",
    "\n",
    "E, X, Y, YS = load_images(patch_size, patch_stride)\n",
    "X = [preprocess_patches(x) for x in tqdm(X)]\n",
    "dataset = ConcatDataset([TensorDataset(*x) for x in X])\n",
    "print(\"Training dataset size:\", sum([x[0].shape[0] for x in X]))\n"
   ]
  },
  {
   "cell_type": "code",
   "execution_count": null,
   "id": "2441c8b2",
   "metadata": {},
   "outputs": [],
   "source": []
  },
  {
   "cell_type": "code",
   "execution_count": 2,
   "id": "4035ff7b",
   "metadata": {
    "scrolled": false
   },
   "outputs": [
    {
     "name": "stdout",
     "output_type": "stream",
     "text": [
      "==========================================================================================\n",
      "Layer (type:depth-idx)                   Output Shape              Param #\n",
      "==========================================================================================\n",
      "Net                                      --                        --\n",
      "├─Sequential: 1-1                        [2, 1, 32, 32]            --\n",
      "│    └─ResBlock2D: 2-1                   [2, 1, 32, 32]            --\n",
      "│    │    └─Conv2d: 3-1                  [2, 128, 32, 32]          1,280\n",
      "│    │    └─ReLU: 3-2                    [2, 128, 32, 32]          --\n",
      "│    │    └─Conv2d: 3-3                  [2, 1, 32, 32]            129\n",
      "│    └─LeakyReLU: 2-2                    [2, 1, 32, 32]            --\n",
      "├─Linear: 1-2                            [2, 1024]                 1,049,600\n",
      "├─Linear: 1-3                            [2, 1024]                 1,049,600\n",
      "├─Linear: 1-4                            [2, 8]                    8,200\n",
      "==========================================================================================\n",
      "Total params: 2,108,809\n",
      "Trainable params: 2,108,809\n",
      "Non-trainable params: 0\n",
      "Total mult-adds (M): 7.10\n",
      "==========================================================================================\n",
      "Input size (MB): 0.01\n",
      "Forward/backward pass size (MB): 2.15\n",
      "Params size (MB): 8.44\n",
      "Estimated Total Size (MB): 10.59\n",
      "==========================================================================================\n"
     ]
    },
    {
     "name": "stderr",
     "output_type": "stream",
     "text": [
      "/home/ben/anaconda3/envs/PhD/lib/python3.8/site-packages/torch/nn/_reduction.py:42: UserWarning: size_average and reduce args will be deprecated, please use reduction='mean' instead.\n",
      "  warnings.warn(warning.format(ret))\n"
     ]
    },
    {
     "data": {
      "text/plain": [
       "<All keys matched successfully>"
      ]
     },
     "execution_count": 2,
     "metadata": {},
     "output_type": "execute_result"
    }
   ],
   "source": [
    "import torchinfo\n",
    "import torch\n",
    "import torch.nn as nn\n",
    "import torch.nn.functional as F\n",
    "from tml.criterion.contrastive import PairedTripletLoss, Cosin_distance_matrix, L2_distance_matrix\n",
    "\n",
    "from types import SimpleNamespace\n",
    "from tqdm.auto import tqdm\n",
    "\n",
    "config = dict(\n",
    "    env_id = \"UCSD\",\n",
    "    batch_size = 512,\n",
    "    learning_rate = 0.0025,\n",
    "    device = \"cuda:0\",\n",
    "    state_shape = (1, patch_size, patch_size),\n",
    "    latent_shape = (8,),\n",
    "    epochs = 20,\n",
    "    margin = 0.05,\n",
    ")\n",
    "config = SimpleNamespace(**config)\n",
    "\n",
    "class ResBlock2D(nn.Module):\n",
    "\n",
    "    def __init__(self, in_channel, channel):\n",
    "        super(ResBlock2D, self).__init__()\n",
    "        self.in_channel = in_channel\n",
    "        self.channel = channel\n",
    "        self.c1 = nn.Conv2d(in_channel, channel, 3, 1, 1)\n",
    "        self.r1 = nn.ReLU(inplace=True)\n",
    "        self.c2 = nn.Conv2d(channel, in_channel, 1)\n",
    "        \n",
    "    def forward(self, x):\n",
    "        x_ = self.c2(self.r1(self.c1(x)))\n",
    "        x_ += x\n",
    "        return x_\n",
    "\n",
    "class Net(torch.nn.Module):\n",
    "    \n",
    "    def __init__(self, input_shape, output_shape):\n",
    "        super().__init__()\n",
    "        self.input_shape = input_shape\n",
    "        self.output_shape = output_shape\n",
    "        \n",
    "        self.conv_layers = nn.Sequential(\n",
    "            ResBlock2D(self.input_shape[0], 128), nn.LeakyReLU(),\n",
    "            #ResBlock2D(1, 128), nn.LeakyReLU(),\n",
    "        )\n",
    "        self.l1 = nn.Linear(np.prod(input_shape), 1024)\n",
    "        self.l2 = nn.Linear(1024, 1024)\n",
    "        self.l3 = nn.Linear(1024, np.prod(output_shape))\n",
    "        \n",
    "    def forward(self, x):\n",
    "        x = self.conv_layers(x)\n",
    "        x = x.reshape(x.shape[0], -1)\n",
    "        x1 = F.leaky_relu(self.l1(x)) + x\n",
    "        x2 = F.leaky_relu(self.l2(x1)) + x1\n",
    "        x3 = F.leaky_relu(self.l3(x2))           \n",
    "        return x3.reshape(x3.shape[0], *self.output_shape)\n",
    "    \n",
    "#print(config)\n",
    "model = Net(config.state_shape, config.latent_shape).to(config.device)\n",
    "print(torchinfo.summary(model, [2, *config.state_shape], device=config.device))\n",
    "optim = torch.optim.Adam(model.parameters(), lr=config.learning_rate)\n",
    "criterion = PairedTripletLoss(margin=config.margin, distance=Cosin_distance_matrix)\n",
    "\n",
    "loader = DataLoader(dataset, batch_size=config.batch_size, drop_last=True, pin_memory=True, shuffle=True)\n",
    "\n",
    "model.load_state_dict(torch.load(f\"ucsd-1-split-final.pt\"))\n",
    "\n"
   ]
  },
  {
   "cell_type": "code",
   "execution_count": null,
   "id": "c525b9ac",
   "metadata": {},
   "outputs": [],
   "source": [
    "# TRAIN\n",
    "pepoch = tqdm(range(config.epochs))\n",
    "for e in pepoch:\n",
    "    losses = []\n",
    "    for i, (batch_x1, batch_x2, *batch_i) in enumerate(tqdm(loader, leave=False)):\n",
    "        batch_x1, batch_x2 = batch_x1.to(config.device), batch_x2.to(config.device)\n",
    "        optim.zero_grad()\n",
    "        z1, z2 = model(batch_x1), model(batch_x2)\n",
    "        loss = criterion(z1, z2)\n",
    "        loss.backward()\n",
    "        optim.step()\n",
    "        losses.append(loss.item())\n",
    "    pepoch.set_description(f\"Loss: {sum(losses)}\")\n",
    "    \n",
    "    torch.save(model.state_dict(), f\"ucsd-1-split-{e}-{config.latent_shape[0]}.pt\")"
   ]
  },
  {
   "cell_type": "code",
   "execution_count": null,
   "id": "233be3b8",
   "metadata": {},
   "outputs": [],
   "source": [
    "#torch.save(model.state_dict(), f\"ucsd-1-split-final.pt\")"
   ]
  },
  {
   "cell_type": "code",
   "execution_count": 3,
   "id": "a6d6fbcf",
   "metadata": {},
   "outputs": [
    {
     "data": {
      "application/vnd.jupyter.widget-view+json": {
       "model_id": "3c18c83278284fc29639eced80f0bfd3",
       "version_major": 2,
       "version_minor": 0
      },
      "text/plain": [
       "  0%|          | 0/46 [00:00<?, ?it/s]"
      ]
     },
     "metadata": {},
     "output_type": "display_data"
    },
    {
     "name": "stdout",
     "output_type": "stream",
     "text": [
      "/home/ben/.data/UCSD/UCSDped1/Test/Test001\n",
      "/home/ben/.data/UCSD/UCSDped1/Test/Test002\n",
      "/home/ben/.data/UCSD/UCSDped1/Test/Test003\n",
      "/home/ben/.data/UCSD/UCSDped1/Test/Test003_gt\n",
      "/home/ben/.data/UCSD/UCSDped1/Test/Test004\n",
      "/home/ben/.data/UCSD/UCSDped1/Test/Test004_gt\n",
      "/home/ben/.data/UCSD/UCSDped1/Test/Test005\n",
      "/home/ben/.data/UCSD/UCSDped1/Test/Test006\n",
      "/home/ben/.data/UCSD/UCSDped1/Test/Test007\n",
      "/home/ben/.data/UCSD/UCSDped1/Test/Test008\n",
      "/home/ben/.data/UCSD/UCSDped1/Test/Test009\n",
      "/home/ben/.data/UCSD/UCSDped1/Test/Test010\n",
      "/home/ben/.data/UCSD/UCSDped1/Test/Test011\n",
      "/home/ben/.data/UCSD/UCSDped1/Test/Test012\n",
      "/home/ben/.data/UCSD/UCSDped1/Test/Test013\n",
      "/home/ben/.data/UCSD/UCSDped1/Test/Test014\n",
      "/home/ben/.data/UCSD/UCSDped1/Test/Test014_gt\n",
      "/home/ben/.data/UCSD/UCSDped1/Test/Test015\n",
      "/home/ben/.data/UCSD/UCSDped1/Test/Test016\n",
      "/home/ben/.data/UCSD/UCSDped1/Test/Test017\n",
      "/home/ben/.data/UCSD/UCSDped1/Test/Test018\n",
      "/home/ben/.data/UCSD/UCSDped1/Test/Test018_gt\n",
      "/home/ben/.data/UCSD/UCSDped1/Test/Test019\n",
      "/home/ben/.data/UCSD/UCSDped1/Test/Test019_gt\n",
      "/home/ben/.data/UCSD/UCSDped1/Test/Test020\n",
      "/home/ben/.data/UCSD/UCSDped1/Test/Test021\n",
      "/home/ben/.data/UCSD/UCSDped1/Test/Test021_gt\n",
      "/home/ben/.data/UCSD/UCSDped1/Test/Test022\n",
      "/home/ben/.data/UCSD/UCSDped1/Test/Test022_gt\n",
      "/home/ben/.data/UCSD/UCSDped1/Test/Test023\n",
      "/home/ben/.data/UCSD/UCSDped1/Test/Test023_gt\n",
      "/home/ben/.data/UCSD/UCSDped1/Test/Test024\n",
      "/home/ben/.data/UCSD/UCSDped1/Test/Test024_gt\n",
      "/home/ben/.data/UCSD/UCSDped1/Test/Test025\n",
      "/home/ben/.data/UCSD/UCSDped1/Test/Test026\n",
      "/home/ben/.data/UCSD/UCSDped1/Test/Test027\n",
      "/home/ben/.data/UCSD/UCSDped1/Test/Test028\n",
      "/home/ben/.data/UCSD/UCSDped1/Test/Test029\n",
      "/home/ben/.data/UCSD/UCSDped1/Test/Test030\n",
      "/home/ben/.data/UCSD/UCSDped1/Test/Test031\n",
      "/home/ben/.data/UCSD/UCSDped1/Test/Test032\n",
      "/home/ben/.data/UCSD/UCSDped1/Test/Test032_gt\n",
      "/home/ben/.data/UCSD/UCSDped1/Test/Test033\n",
      "/home/ben/.data/UCSD/UCSDped1/Test/Test034\n",
      "/home/ben/.data/UCSD/UCSDped1/Test/Test035\n",
      "/home/ben/.data/UCSD/UCSDped1/Test/Test036\n"
     ]
    },
    {
     "data": {
      "application/vnd.jupyter.widget-view+json": {
       "model_id": "78409618a972408c89751bda5b9d6ca9",
       "version_major": 2,
       "version_minor": 0
      },
      "text/plain": [
       "  0%|          | 0/36 [00:00<?, ?it/s]"
      ]
     },
     "metadata": {},
     "output_type": "display_data"
    }
   ],
   "source": [
    "# load test data\n",
    "import matplotlib.pyplot as plt\n",
    "TRAIN = False\n",
    "STAGE = 'Train' if TRAIN else 'Test'\n",
    "PATH = f\"~/.data/UCSD/UCSDped{DATASET}/{STAGE}/\" # CHANGE path to dataset\n",
    "PATH = str(pathlib.Path(PATH).expanduser().resolve())\n",
    "\n",
    "def preprocess_patches(x, threshold=16.):\n",
    "    #def remove_self_transitions(x1, x2):\n",
    "    #    indx = (x2-x1).abs().view(x1.shape[0],-1).sum(-1) > threshold\n",
    "    #    x1, x2 = x1[indx], x2[indx]\n",
    "    #    return x1, x2\n",
    "    x1, x2 = x[:-1], x[1:]\n",
    "    #x1, x2 = x1.reshape(-1, *x1.shape[2:]), x2.reshape(-1, *x2.shape[2:])\n",
    "    #return remove_self_transitions(x1, x2)\n",
    "    return x1, x2\n",
    "\n",
    "E, X, Y, _ = load_images(patch_size, patch_stride)\n",
    "X = [preprocess_patches(x) for x in tqdm(X)]\n",
    "Y = [torch.logical_or(y[:-1], y[1:]) for y in Y]\n",
    "\n"
   ]
  },
  {
   "cell_type": "code",
   "execution_count": 4,
   "id": "fced22a3",
   "metadata": {},
   "outputs": [
    {
     "data": {
      "application/vnd.jupyter.widget-view+json": {
       "model_id": "70a62f55448f422483cc6b7e8c2e23dd",
       "version_major": 2,
       "version_minor": 0
      },
      "text/plain": [
       "0it [00:00, ?it/s]"
      ]
     },
     "metadata": {},
     "output_type": "display_data"
    }
   ],
   "source": [
    "#model.load_state_dict(torch.load(f\"ucsd-1-split-final.pt\"))\n",
    "def compute_score(x1, x2):\n",
    "    with torch.no_grad():\n",
    "        z1 = model(x1.to(config.device))\n",
    "        z2 = model(x2.to(config.device))\n",
    "        score = 1-torch.nn.functional.cosine_similarity(z1,z2) \n",
    "        return score.cpu()\n",
    "\n",
    "pscores, scores, labels, Xs = [], [], [], []\n",
    "\n",
    "for E_, (X1, X2), Y_ in tqdm(zip(E, X, Y)):\n",
    "    score = [compute_score(x1,x2).reshape(1,16,26) for x1, x2 in zip(X1, X2)]\n",
    "    score = torch.stack(score)\n",
    "    scores.append(score)\n",
    "    \n",
    "    pscore = ((X1.view(*X1.shape[:2], -1) - X2.view(*X1.shape[:2], -1)) ** 2).sum(-1)\n",
    "    pscore = torch.amax(pscore, -1)\n",
    "    pscores.append(pscore)\n",
    "    #Xs.append(torch.cat([E_[:-1], E_[1:]], dim=-1))\n",
    "    labels.append(Y_)\n",
    "    \n",
    "    #resize = torchvision.transforms.Resize(E_.shape[2:], interpolation=torchvision.transforms.InterpolationMode.NEAREST)\n",
    "    #score_img = resize(score)\n",
    "    #score_img = (score_img - score_img.min()) / (score_img.max() - score_img.min())\n",
    "    #J.images(torch.cat([score_img, E_[:-1]], dim=-1), on_interact=Y_, scale=2)\n",
    "\n"
   ]
  },
  {
   "cell_type": "code",
   "execution_count": 7,
   "id": "cc99ef7b",
   "metadata": {},
   "outputs": [
    {
     "name": "stdout",
     "output_type": "stream",
     "text": [
      "0.25718849840362695\n",
      "Bug & Class & Precision  & Recall     & F1-score   & Support & True & False & $\\mu(log\\Delta_1)$ \\\\ \\hline \n",
      "\n",
      "                     & 0 (N) &      0.680 &      0.780 &      0.727 &       3130 &       2440 &        690 &      0.145 \\\\ \n",
      "                     & 1 (A) &      0.807 &      0.716 &      0.759 &       4034 &       2888 &       1146 &      0.395 \\\\ \\hline \n",
      "\n",
      "Bug & Threshold & G-Mean & PR AUC & PR NS & ROC AUC & Accuracy \\\\ \\hline\n",
      "                     &      0.201 &      0.747 &      0.821 &      0.563  &      0.804 &      0.744 \\\\ \\hline \n",
      "\n"
     ]
    },
    {
     "data": {
      "image/png": "[encoded data removed]",
      "text/plain": [
       "<Figure size 432x288 with 1 Axes>"
      ]
     },
     "metadata": {
      "needs_background": "light"
     },
     "output_type": "display_data"
    },
    {
     "data": {
      "image/png": "[encoded data removed]",
      "text/plain": [
       "<Figure size 360x216 with 1 Axes>"
      ]
     },
     "metadata": {
      "needs_background": "light"
     },
     "output_type": "display_data"
    }
   ],
   "source": [
    "\n",
    "def result(label, score):  \n",
    "    import sklearn.metrics as metrics\n",
    "    fpr, tpr, thresholds = metrics.roc_curve(label, score)\n",
    "    gmeans = np.sqrt(tpr * (1-fpr))\n",
    "    ix = np.argmax(gmeans)\n",
    "    \n",
    "    pred = (score >= thresholds[ix]).astype(np.float32)\n",
    "    report = metrics.classification_report(label, pred, target_names=[\"normal\", \"abnormal\"], output_dict=True)\n",
    "\n",
    "    cm = metrics.confusion_matrix(label, pred)\n",
    "\n",
    "    # create table of results\n",
    "    empty = ''\n",
    "    \n",
    "    # PER CLASS STATISTICS\n",
    "    iheader = f\"Bug & Class & Precision  & Recall     & F1-score   & Support & True & False & $\\mu(log\\Delta_1)$ \\\\\\\\ \\hline \\n\"\n",
    "    # (\"\\multicolumn{5}{|c|}{\" + bug_names[bug] + \"} \\\\\\\\ \\hline \\n\")\\\n",
    "    itable1 = f\"{empty:20} & 0 (N) & {report['normal']['precision']:10.3f} & {report['normal']['recall']:10.3f} & {report['normal']['f1-score'] :10.3f} & {report['normal']['support'] :10} & {cm[0][0]:10} & {cm[0][1]:10} & {score[np.logical_not(label)].mean():10.3f} \\\\\\\\ \\n\"\n",
    "    itable2 = f\"{empty:20} & 1 (A) & {report['abnormal']['precision']:10.3f} & {report['abnormal']['recall']:10.3f} & {report['abnormal']['f1-score']:10.3f} & {report['abnormal']['support']:10} & {cm[1][1]:10} & {cm[1][0]:10} & {score[label].mean():10.3f} \\\\\\\\ \\hline \\n\"\n",
    "    itable = itable1 + itable2\n",
    "    \n",
    "    # CLASSIFICATION STATISTICS\n",
    "    mheader = f\"Bug & Threshold & G-Mean & PR AUC & PR NS & ROC AUC & Accuracy \\\\\\\\ \\hline\"\n",
    "    mtable = f\"{empty:20} & {thresholds[ix]:10.3f} & {gmeans[ix]:10.3f} & {metrics.average_precision_score(label, score):10.3f} & {(label.sum() / label.shape[0]):10.3f}  & {metrics.roc_auc_score(label, score) :10.3f} & {report['accuracy'] :10.3f} \\\\\\\\ \\hline \\n\"\n",
    "    \n",
    "    return iheader, itable, mheader, mtable\n",
    "\n",
    "\n",
    "def plot_hist(label, score):\n",
    "    import seaborn as sb\n",
    "    palette = sb.color_palette(\"hls\", 8)\n",
    "    RED, BLUE = palette[0], palette[5]\n",
    "    \n",
    "    # plot historgrams\n",
    "    binrange = (score.min().item(), score.max().item())\n",
    "    fig = plt.figure(figsize=(5,3))\n",
    "    \n",
    "    sb.histplot(score[label], color=RED, bins=16, binrange=binrange)\n",
    "    ylim = plt.gca().get_ylim()\n",
    "    sb.histplot(score[np.logical_not(label)], color=BLUE, bins=16, binrange=binrange)\n",
    "    plt.gca().set_yscale('log')\n",
    "    plt.gca().set_ylabel(None)\n",
    "    return fig\n",
    "\n",
    "\n",
    "def equal_error_rate(label, score):\n",
    "    from scipy.optimize import brentq\n",
    "    from scipy.interpolate import interp1d\n",
    "    from sklearn.metrics import roc_curve\n",
    "\n",
    "    fpr, tpr, thresholds = roc_curve(label, score, pos_label=1)\n",
    "\n",
    "    plt.plot(fpr, tpr)\n",
    "    plt.plot([0,1],[1,0], color=\"black\", alpha=0.3, linestyle=\"--\")\n",
    "   \n",
    "    eer = brentq(lambda x : 1. - x - interp1d(fpr, tpr)(x), 0., 1.)\n",
    "    #thresh = interp1d(fpr, thresholds)(eer)\n",
    "    \n",
    "    return eer\n",
    "\n",
    "def proc_score(score, pscore, label):\n",
    "    score = score.view(score.shape[0], -1).sum(-1)\n",
    "    #score = torch.amax(score.view(score.shape[0], -1), -1)\n",
    "    \n",
    "    # remove sharp peaks that are due to camera glitches, this really messes with the averaging! it is a hack, we present results for with/without these artifacts\n",
    "    #indx = pscore < 100. # remove \n",
    "    #shape = score.shape\n",
    "    #score = score[indx]\n",
    "    #label = label[indx]\n",
    "    #pscore = pscore[indx]\n",
    "    #print(shape, score.shape)\n",
    "    \n",
    "    #print(shape, score.shape)\n",
    "    score = score.numpy()\n",
    "    def averaging():\n",
    "        kernel_size = 10\n",
    "        swrap = np.zeros(score.shape[0] + kernel_size)\n",
    "        #swrap[kernel_size:] = score[kernel_size//2:].mean() \n",
    "        #swrap[:-kernel_size] = score[:-kernel_size//2].mean()\n",
    "        swrap[kernel_size:] = score[0]\n",
    "        swrap[:-kernel_size] = score[1] \n",
    "        swrap[kernel_size//2:-kernel_size//2] = score\n",
    "        kernel = np.ones(kernel_size + 1)\n",
    "        return np.convolve(swrap, kernel, mode='valid')\n",
    "    \n",
    "    score = averaging()\n",
    "    score = (score - score.min()) / (score.max() - score.min())\n",
    "    return score, pscore.numpy(), label.numpy()\n",
    "    \n",
    "_scores, _pscores, _labels = zip(*[proc_score(*s) for s in zip(scores, pscores, labels)])\n",
    "_scores, _pscores, _labels = np.concatenate(_scores), np.concatenate(_pscores), np.concatenate(_labels)\n",
    "\n",
    "eer = equal_error_rate(_labels, _scores)\n",
    "print(eer)\n",
    "plot_hist(_labels, _scores)\n",
    "\n",
    "iheader, itable, mheader, mtable = result(_labels, _scores)\n",
    "\n",
    "print(iheader)\n",
    "print(itable)\n",
    "print(mheader)\n",
    "print(mtable)\n",
    "\n",
    "\n",
    "\n",
    "\n"
   ]
  },
  {
   "cell_type": "code",
   "execution_count": null,
   "id": "ce88b0f2",
   "metadata": {},
   "outputs": [],
   "source": []
  },
  {
   "cell_type": "code",
   "execution_count": null,
   "id": "204f3caa",
   "metadata": {
    "scrolled": false
   },
   "outputs": [],
   "source": [
    "\n",
    "for s  in zip(scores, pscores, labels):\n",
    "    _scores, _pscores, _labels = proc_score(*s)\n",
    "                                                          \n",
    "    plt.figure()\n",
    "    plt.hlines(0.399, 0, len(_scores)) # plot threshold\n",
    "    plt.plot(_scores)\n",
    "    plt.plot(_labels)"
   ]
  },
  {
   "cell_type": "code",
   "execution_count": null,
   "id": "4cd93687",
   "metadata": {},
   "outputs": [],
   "source": []
  },
  {
   "cell_type": "code",
   "execution_count": null,
   "id": "1c0284ec",
   "metadata": {},
   "outputs": [],
   "source": [
    "_labels, _scores, = torch.cat(labels), torch.cat(pscores)\n",
    "\n",
    "plt.figure(figsize=(16,3))\n",
    "print(_scores.shape)\n",
    "plt.plot(_scores)\n",
    "\n",
    "indx = torch.argsort(-_scores)\n",
    "print(_scores[indx][:10])\n",
    "\n"
   ]
  },
  {
   "cell_type": "code",
   "execution_count": null,
   "id": "ec290197",
   "metadata": {},
   "outputs": [],
   "source": []
  },
  {
   "cell_type": "code",
   "execution_count": null,
   "id": "3ed557b7",
   "metadata": {},
   "outputs": [],
   "source": [
    "_labels = []\n",
    "_pscores = []\n",
    "\n",
    "for (X1, X2), Y_ in tqdm(zip(X, Y)):\n",
    "    pscore = ((X1.view(*X1.shape[:2], -1) - X2.view(*X1.shape[:2], -1)) ** 2).sum(-1)\n",
    "    pscore = torch.amax(pscore, -1)\n",
    "    _pscores.append(pscore)\n",
    "    _labels.append(Y_)\n",
    "                        \n",
    "    break\n",
    "\n",
    "_pscores, _labels = torch.cat(_pscores).numpy(), torch.cat(_labels).numpy()\n",
    "print(_pscores.shape, _labels.shape)\n",
    "\n",
    "plt.figure()\n",
    "eer = equal_error_rate(_labels, _pscores)\n",
    "print(eer)\n",
    "plot_hist(_labels, _pscores)\n",
    "\n",
    "iheader, itable, mheader, mtable = result(_labels, _pscores)\n",
    "\n",
    "print(iheader)\n",
    "print(itable)\n",
    "print(mheader)\n",
    "print(mtable)\n",
    "\n"
   ]
  }
 ],
 "metadata": {
  "kernelspec": {
   "display_name": "PhD",
   "language": "python",
   "name": "phd"
  },
  "language_info": {
   "codemirror_mode": {
    "name": "ipython",
    "version": 3
   },
   "file_extension": ".py",
   "mimetype": "text/x-python",
   "name": "python",
   "nbconvert_exporter": "python",
   "pygments_lexer": "ipython3",
   "version": "3.8.12"
  }
 },
 "nbformat": 4,
 "nbformat_minor": 5
}
